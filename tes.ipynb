{
  "cells": [
    {
      "cell_type": "markdown",
      "metadata": {
        "id": "view-in-github",
        "colab_type": "text"
      },
      "source": [
        "<a href=\"https://colab.research.google.com/github/joebayiden/stable-wibu/blob/master/tes.ipynb\" target=\"_parent\"><img src=\"https://colab.research.google.com/assets/colab-badge.svg\" alt=\"Open In Colab\"/></a>"
      ]
    },
    {
      "cell_type": "markdown",
      "source": [
        "## Tes yang lama 🚫"
      ],
      "metadata": {
        "id": "fL1_zRZxbSgv"
      }
    },
    {
      "cell_type": "code",
      "source": [
        "#@title # [🔻] Pertama\n",
        "# @markdown > Pilih versi UI\n",
        "versions = \"v1.6.0\" #@param [\"v1.6.0\",\"v1.5.2\",\"v1.5.1\",\"v1.5.0\"]\n",
        "path = \"dev_tester\"  #@param {type:\"string\"}\n",
        "# @markdown > SD1.5 Models\n",
        "model = \"AnythingV5V3_v5PrtRE.safetensors\" #@param [\"Dark_sushi_mix.safetensors\", \"AnythingV5V3_v5PrtRE.safetensors\", \"chilloutmix_NiPrunedFp16Fix.safetensors\", \"protogenV22Anime_22.safetensors\",\"none\"]\n",
        "VAE = \"kl-f8-anime.ckpt\" #@param [\"None\", \"WD-v2.vae.pt\", \"blessed-fix.vae.pt\", \"blessed.vae.pt\", \"blessed2.vae.pt\", \"clearvae_main.safetensors\", \"cute_vae.safetensors\", \"grapefruitVAE_v1.pt\", \"kl-f8-anime.ckpt\", \"kl-f8-anime2.ckpt\", \"nai.vae.pt\", \"orangemix.vae.pt\", \"pastel-waifu-diffusion.vae.pt\", \"rmada-cold-vae.ckpt\", \"vae-ft-mse-840000-ema-pruned.ckpt\", \"vaeextremecolors_v10.pt\"]\n",
        "# @markdown > SDXL1.0 Models\n",
        "sdxl_model = \"none\" #@param [\"FormulaXL.safetensors\", \"none\"]\n",
        "sdxl_vae = \"none\" #@param [\"sdxl_vae.safetensors\", \"none\"]\n",
        "# @markdown > Extensions + Upscalers\n",
        "control_net = \"No\"  # @param [\"No\", \"Yes\"]\n",
        "Upscalers = \"4x-UltraSharp.pth\" #@param [\"None\", \"4x-UltraSharp.pth\", \"4x_CountryRoads_377000_G.pth\", \"4x_Fatality_Comix_260000_G.pth\", \"4x_RealisticRescaler_100000_G.pth\", \"4x_Valar_v1.pth\", \"4x_fatal_Anime_500000_G.pth\", \"4x_foolhardy_Remacri.pth\", \"A_ESRGAN_Single.pth\", \"LADDIER1_282500_G.pth\", \"WaifuGAN_v3_30000.pth\", \"lollypop.pth\"]\n",
        "\n",
        "modelurl = {\n",
        "    \"chilloutmix_NiPrunedFp16Fix.safetensors\"         : \"https://huggingface.co/naonovn/chilloutmix_NiPrunedFp32Fix/resolve/main/chilloutmix_NiPrunedFp32Fix.safetensors\",\n",
        "    \"AnythingV5V3_v5PrtRE.safetensors\"     : \"https://huggingface.co/ckpt/anything-v5.0/resolve/main/AnythingV5V3_v5PrtRE.safetensors\",\n",
        "    \"Dark_sushi_mix.safetensors\"     :\"https://huggingface.co/mdl-mirror/dark-sushi-mix/resolve/main/darkSushiMixMix_brighter.safetensors\",\n",
        "    \"ProtoGen_X5.safetensors\"     :\"https://huggingface.co/darkstorm2150/Protogen_x5.8_Official_Release/resolve/main/ProtoGen_X5.8-pruned-fp16.safetensors\",\n",
        "    \"none\"         : \"\",\n",
        "}\n",
        "\n",
        "xd_url = {\n",
        "    \"FormulaXL.safetensors\"       :  \"https://civitai.com/api/download/models/142477\",\n",
        "    \"none\"         : \"\",\n",
        "}\n",
        "\n",
        "xd_vae_url = {\n",
        "    \"sdxl_vae.safetensors\"     : \"https://civitai.com/api/download/models/142477?type=VAE&format=Other\",\n",
        "    \"none\"         : \"\",\n",
        "}\n",
        "\n",
        "VAE_urls = {\n",
        "    \"WD-v2.vae.pt\": 'https://huggingface.co/Kefasu/sd-vae-collection/resolve/main/WD-v2.vae.pt',\n",
        "    \"blessed-fix.vae.pt\": 'https://huggingface.co/Kefasu/sd-vae-collection/resolve/main/blessed-fix.vae.pt',\n",
        "    \"blessed.vae.pt\": 'https://huggingface.co/Kefasu/sd-vae-collection/resolve/main/blessed.vae.pt',\n",
        "    \"blessed2.vae.pt\": 'https://huggingface.co/Kefasu/sd-vae-collection/resolve/main/blessed2.vae.pt',\n",
        "    \"clearvae_main.safetensors\": 'https://huggingface.co/Kefasu/sd-vae-collection/resolve/main/clearvae_main.safetensors',\n",
        "    \"cute_vae.safetensors\": 'https://huggingface.co/Kefasu/sd-vae-collection/resolve/main/cute%20vae.safetensors',\n",
        "    \"grapefruitVAE_v1.pt\": 'https://huggingface.co/Kefasu/sd-vae-collection/resolve/main/grapefruitVAE_v1.pt',\n",
        "    \"kl-f8-anime.ckpt\": 'https://huggingface.co/Kefasu/sd-vae-collection/resolve/main/kl-f8-anime.ckpt',\n",
        "    \"kl-f8-anime2.ckpt\": 'https://huggingface.co/Kefasu/sd-vae-collection/resolve/main/kl-f8-anime2.ckpt',\n",
        "    \"nai.vae.pt\": 'https://huggingface.co/Kefasu/sd-vae-collection/resolve/main/nai.vae.pt',\n",
        "    \"orangemix.vae.pt\": 'https://huggingface.co/Kefasu/sd-vae-collection/resolve/main/orangemix.vae.pt',\n",
        "    \"pastel-waifu-diffusion.vae.pt\": 'https://huggingface.co/Kefasu/sd-vae-collection/resolve/main/pastel-waifu-diffusion.vae.pt',\n",
        "    \"rmada-cold-vae.ckpt\": 'https://huggingface.co/Kefasu/sd-vae-collection/resolve/main/rmada-cold-vae.ckpt',\n",
        "    \"vae-ft-mse-840000-ema-pruned.ckpt\": 'https://huggingface.co/Kefasu/sd-vae-collection/resolve/main/vae-ft-mse-840000-ema-pruned.ckpt',\n",
        "    \"vaeextremecolors_v10.pt\": 'https://huggingface.co/Kefasu/sd-vae-collection/resolve/main/vaeextremecolors_v10.pt'\n",
        "}\n",
        "\n",
        "upscalers_urls = {\n",
        "    \"4x-UltraSharp.pth\": 'https://huggingface.co/uwg/upscaler/resolve/main/ESRGAN/4x-UltraSharp.pth',\n",
        "    \"4x_CountryRoads_377000_G.pth\": 'https://huggingface.co/uwg/upscaler/resolve/main/ESRGAN/4x_CountryRoads_377000_G.pth',\n",
        "    \"4x_Fatality_Comix_260000_G.pth\": 'https://huggingface.co/uwg/upscaler/resolve/main/ESRGAN/4x_Fatality_Comix_260000_G.pth',\n",
        "    \"4x_RealisticRescaler_100000_G.pth\": 'https://huggingface.co/uwg/upscaler/resolve/main/ESRGAN/4x_RealisticRescaler_100000_G.pth',\n",
        "    \"4x_Valar_v1.pth\": 'https://huggingface.co/uwg/upscaler/resolve/main/ESRGAN/4x_Valar_v1.pth',\n",
        "    \"4x_fatal_Anime_500000_G.pth\": 'https://huggingface.co/uwg/upscaler/resolve/main/ESRGAN/4x_fatal_Anime_500000_G.pth',\n",
        "    \"4x_foolhardy_Remacri.pth\": 'https://huggingface.co/uwg/upscaler/resolve/main/ESRGAN/4x_foolhardy_Remacri.pth',\n",
        "    \"A_ESRGAN_Single.pth\": 'https://huggingface.co/uwg/upscaler/resolve/main/ESRGAN/A_ESRGAN_Single.pth',\n",
        "    \"LADDIER1_282500_G.pth\": 'https://huggingface.co/uwg/upscaler/resolve/main/ESRGAN/LADDIER1_282500_G.pth',\n",
        "    \"WaifuGAN_v3_30000.pth\": 'https://huggingface.co/uwg/upscaler/resolve/main/ESRGAN/WaifuGAN_v3_30000.pth',\n",
        "    \"lollypop.pth\": 'https://huggingface.co/uwg/upscaler/resolve/main/ESRGAN/lollypop.pth',\n",
        "    \"sudo_rife4_269.662_testV1_scale1.pth\": 'https://huggingface.co/uwg/upscaler/resolve/main/ESRGAN/sudo_rife4_269.662_testV1_scale1.pth',\n",
        "}\n",
        "print(\"✅ Done success\")"
      ],
      "metadata": {
        "id": "LpTVzm64bhLR",
        "colab": {
          "base_uri": "https://localhost:8080/"
        },
        "cellView": "form",
        "outputId": "76a83544-9d74-4bb0-c7ee-13061fe9deb6"
      },
      "execution_count": 3,
      "outputs": [
        {
          "output_type": "stream",
          "name": "stdout",
          "text": [
            "✅ Done success\n"
          ]
        }
      ]
    },
    {
      "cell_type": "markdown",
      "source": [
        "---"
      ],
      "metadata": {
        "id": "JhVA_8HXJUYl"
      }
    },
    {
      "cell_type": "code",
      "source": [
        "#@title # [🔻] Kedua\n",
        "# @markdown ### **Downloading Files**\n",
        "from IPython.display import clear_output\n",
        "import time\n",
        "\n",
        "try:\n",
        "    start_colab\n",
        "except:\n",
        "    start_colab = int(time.time())-5\n",
        "\n",
        "%cd /content\n",
        "%env TF_CPP_MIN_LOG_LEVEL=1\n",
        "!apt -y update -qq\n",
        "!wget https://github.com/camenduru/gperftools/releases/download/v1.0/libtcmalloc_minimal.so.4 -O /content/libtcmalloc_minimal.so.4\n",
        "%env LD_PRELOAD=/content/libtcmalloc_minimal.so.4\n",
        "\n",
        "!apt -y install -qq aria2\n",
        "!pip install -q xformers==0.0.20 triton==2.0.0 -U\n",
        "!pip install -q colorama\n",
        "!pip uninstall urllib3 -y\n",
        "!pip uninstall chardet -y\n",
        "!pip install requests\n",
        "from colorama import Fore, Back, Style\n",
        "!pip install -q git+https://github.com/DEX-1101/colablib\n",
        "!git clone -b {versions} --single-branch https://github.com/joebayiden/stable-wibu {path}\n",
        "print(\"✅ Done\", \"success\")\n",
        "clear_output()\n",
        "\n",
        "%cd /content/{path}\n",
        "!wget https://raw.githubusercontent.com/godtrex99/godtrex99/main/styles.csv styles.csv\n",
        "!wget https://raw.githubusercontent.com/godtrex99/godtrex99/main/ui-config.json ui-config.json\n",
        "!git reset --hard\n",
        "!mkdir -p /content/{path}/static && touch /content/{path}/static/colabTimer.txt\n",
        "#clear_output()\n",
        "# Download Checkpoint\n",
        "print(\"Download 🕓\", \"Checkpoint\")\n",
        "!aria2c --console-log-level=warn -c -x 16 -s 16 -k 1M {modelurl[model]}  -d /content/{path}/models/Stable-diffusion -o {model}\n",
        "!aria2c --console-log-level=warn -c -x 16 -s 16 -k 1M {xd_url[sdxl_model]}  -d /content/{path}/models/Stable-diffusion -o {sdxl_model}\n",
        "print(\"✅ Done\", \"success\")\n",
        "#clear_output()\n",
        "# Download VAE\n",
        "print(\"Download 🕓\", \"VAE\")\n",
        "!aria2c --console-log-level=warn -c -x 16 -s 16 -k 1M {VAE_urls[VAE]}  -d /content/{path}/models/VAE -o {VAE}\n",
        "!aria2c --console-log-level=warn -c -x 16 -s 16 -k 1M {xd_vae_url[sdxl_vae]}  -d /content/{path}/models/VAE -o {sdxl_vae}\n",
        "print(\"✅ Done\", \"success\")\n",
        "#clear_output()\n",
        "# Download Upscale\n",
        "print(\"Download 🕓\", \"Upscalers\")\n",
        "!aria2c --console-log-level=warn -c -x 16 -s 16 -k 1M {upscalers_urls[Upscalers]}  -d /content/{path}/models/ESRGAN/ -o {Upscalers}\n",
        "print(\"✅ Done\", \"success\")\n",
        "#clear_output()\n",
        "# Download Extensions\n",
        "print(\"Download 🕓\", \"Extensions\")\n",
        "#!git clone https://github.com/godtrex99/addons-net /content/{path}/extensions/addons-net\n",
        "!git clone https://github.com/BlafKing/sd-civitai-browser-plus /content/{path}/extensions/civi-plus\n",
        "!git clone https://github.com/NoCrypt/ncpt_colab_timer /content/{path}/extensions/colab-timer\n",
        "#!git clone https://github.com/DEX-1101/batchlinks-UI /content/{path}/extensions/batchlinks\n",
        "#!git clone https://github.com/godtrex99/tagcomplete /content/{path}/extensions/wdtagger\n",
        "!git clone https://github.com/godtrex99/images-browser /content/{path}/extensions/Uimages-browser\n",
        "#!git clone https://github.com/godtrex99/ultimate-upscale /content/{path}/extensions/ulti-upscale\n",
        "print(\"✅ Done\", \"success\")\n",
        "#clear_output()\n",
        "\n",
        "%cd /content/{path}/extensions\n",
        "if control_net == \"Yes\":\n",
        "   !git clone https://github.com/DEX-1101/WB-controlnet\n",
        "   !git clone https://github.com/fkunn1326/openpose-editor\n",
        "\n",
        "%cd /content/beta_use/extensions/WB-controlnet/models\n",
        "if control_net == \"Yes\":\n",
        "   !aria2c --console-log-level=error -c -x 16 -s 16 -k 1M https://huggingface.co/ckpt/ControlNet-v1-1/resolve/main/control_v11e_sd15_ip2p_fp16.safetensors -o control_v11e_sd15_ip2p_fp16.safetensors\n",
        "   !aria2c --console-log-level=error -c -x 16 -s 16 -k 1M https://huggingface.co/ckpt/ControlNet-v1-1/resolve/main/control_v11e_sd15_shuffle_fp16.safetensors -o control_v11e_sd15_shuffle_fp16.safetensors\n",
        "   !aria2c --console-log-level=error -c -x 16 -s 16 -k 1M https://huggingface.co/ckpt/ControlNet-v1-1/resolve/main/control_v11p_sd15_canny_fp16.safetensors -o control_v11p_sd15_canny_fp16.safetensors\n",
        "   !aria2c --console-log-level=error -c -x 16 -s 16 -k 1M https://huggingface.co/ckpt/ControlNet-v1-1/resolve/main/control_v11f1p_sd15_depth_fp16.safetensors -o control_v11f1p_sd15_depth_fp16.safetensors\n",
        "   !aria2c --console-log-level=error -c -x 16 -s 16 -k 1M https://huggingface.co/ckpt/ControlNet-v1-1/resolve/main/control_v11p_sd15_inpaint_fp16.safetensors -o control_v11p_sd15_inpaint_fp16.safetensors\n",
        "   !aria2c --console-log-level=error -c -x 16 -s 16 -k 1M https://huggingface.co/ckpt/ControlNet-v1-1/resolve/main/control_v11p_sd15_lineart_fp16.safetensors -o control_v11p_sd15_lineart_fp16.safetensors\n",
        "   !aria2c --console-log-level=error -c -x 16 -s 16 -k 1M https://huggingface.co/ckpt/ControlNet-v1-1/resolve/main/control_v11p_sd15_mlsd_fp16.safetensors -o control_v11p_sd15_mlsd_fp16.safetensors\n",
        "   !aria2c --console-log-level=error -c -x 16 -s 16 -k 1M https://huggingface.co/ckpt/ControlNet-v1-1/resolve/main/control_v11p_sd15_normalbae_fp16.safetensors -o control_v11p_sd15_normalbae_fp16.safetensors\n",
        "   !aria2c --console-log-level=error -c -x 16 -s 16 -k 1M https://huggingface.co/ckpt/ControlNet-v1-1/resolve/main/control_v11p_sd15_openpose_fp16.safetensors -o control_v11p_sd15_openpose_fp16.safetensors\n",
        "   !aria2c --console-log-level=error -c -x 16 -s 16 -k 1M https://huggingface.co/ckpt/ControlNet-v1-1/resolve/main/control_v11p_sd15_scribble_fp16.safetensors -o control_v11p_sd15_scribble_fp16.safetensors\n",
        "   !aria2c --console-log-level=error -c -x 16 -s 16 -k 1M https://huggingface.co/ckpt/ControlNet-v1-1/resolve/main/control_v11p_sd15_seg_fp16.safetensors -o control_v11p_sd15_seg_fp16.safetensors\n",
        "   !aria2c --console-log-level=error -c -x 16 -s 16 -k 1M https://huggingface.co/ckpt/ControlNet-v1-1/resolve/main/control_v11p_sd15_softedge_fp16.safetensors -o control_v11p_sd15_softedge_fp16.safetensors\n",
        "   !aria2c --console-log-level=error -c -x 16 -s 16 -k 1M https://huggingface.co/ckpt/ControlNet-v1-1/resolve/main/control_v11p_sd15s2_lineart_anime_fp16.safetensors -o control_v11p_sd15s2_lineart_anime_fp16.safetensors\n",
        "   !aria2c --console-log-level=error -c -x 16 -s 16 -k 1M https://huggingface.co/ckpt/ControlNet-v1-1/resolve/main/control_v11f1e_sd15_tile_fp16.safetensors -o control_v11f1e_sd15_tile_fp16.safetensors\n",
        "   !aria2c --console-log-level=error -c -x 16 -s 16 -k 1M https://huggingface.co/ckpt/ControlNet-v1-1/raw/main/control_v11e_sd15_ip2p_fp16.yaml -o control_v11e_sd15_ip2p_fp16.yaml\n",
        "   !aria2c --console-log-level=error -c -x 16 -s 16 -k 1M https://huggingface.co/ckpt/ControlNet-v1-1/raw/main/control_v11e_sd15_shuffle_fp16.yaml -o control_v11e_sd15_shuffle_fp16.yaml\n",
        "   !aria2c --console-log-level=error -c -x 16 -s 16 -k 1M https://huggingface.co/ckpt/ControlNet-v1-1/raw/main/control_v11p_sd15_canny_fp16.yaml -o control_v11p_sd15_canny_fp16.yaml\n",
        "   !aria2c --console-log-level=error -c -x 16 -s 16 -k 1M https://huggingface.co/ckpt/ControlNet-v1-1/raw/main/control_v11f1p_sd15_depth_fp16.yaml -o control_v11f1p_sd15_depth_fp16.yaml\n",
        "   !aria2c --console-log-level=error -c -x 16 -s 16 -k 1M https://huggingface.co/ckpt/ControlNet-v1-1/raw/main/control_v11p_sd15_inpaint_fp16.yaml -o control_v11p_sd15_inpaint_fp16.yaml\n",
        "   !aria2c --console-log-level=error -c -x 16 -s 16 -k 1M https://huggingface.co/ckpt/ControlNet-v1-1/raw/main/control_v11p_sd15_lineart_fp16.yaml -o control_v11p_sd15_lineart_fp16.yaml\n",
        "   !aria2c --console-log-level=error -c -x 16 -s 16 -k 1M https://huggingface.co/ckpt/ControlNet-v1-1/raw/main/control_v11p_sd15_mlsd_fp16.yaml -o control_v11p_sd15_mlsd_fp16.yaml\n",
        "   !aria2c --console-log-level=error -c -x 16 -s 16 -k 1M https://huggingface.co/ckpt/ControlNet-v1-1/raw/main/control_v11p_sd15_normalbae_fp16.yaml -o control_v11p_sd15_normalbae_fp16.yaml\n",
        "   !aria2c --console-log-level=error -c -x 16 -s 16 -k 1M https://huggingface.co/ckpt/ControlNet-v1-1/raw/main/control_v11p_sd15_openpose_fp16.yaml -o control_v11p_sd15_openpose_fp16.yaml\n",
        "   !aria2c --console-log-level=error -c -x 16 -s 16 -k 1M https://huggingface.co/ckpt/ControlNet-v1-1/raw/main/control_v11p_sd15_scribble_fp16.yaml -o control_v11p_sd15_scribble_fp16.yaml\n",
        "   !aria2c --console-log-level=error -c -x 16 -s 16 -k 1M https://huggingface.co/ckpt/ControlNet-v1-1/raw/main/control_v11p_sd15_seg_fp16.yaml -o control_v11p_sd15_seg_fp16.yaml\n",
        "   !aria2c --console-log-level=error -c -x 16 -s 16 -k 1M https://huggingface.co/ckpt/ControlNet-v1-1/raw/main/control_v11p_sd15_softedge_fp16.yaml -o control_v11p_sd15_softedge_fp16.yaml\n",
        "   !aria2c --console-log-level=error -c -x 16 -s 16 -k 1M https://huggingface.co/ckpt/ControlNet-v1-1/raw/main/control_v11p_sd15s2_lineart_anime_fp16.yaml -o control_v11p_sd15s2_lineart_anime_fp16.yaml\n",
        "   !aria2c --console-log-level=error -c -x 16 -s 16 -k 1M https://huggingface.co/ckpt/ControlNet-v1-1/raw/main/control_v11f1e_sd15_tile_fp16.yaml -o control_v11f1e_sd15_tile_fp16.yaml\n",
        "   !aria2c --console-log-level=error -c -x 16 -s 16 -k 1M https://huggingface.co/ckpt/ControlNet-v1-1/resolve/main/t2iadapter_style_sd14v1.pth -o t2iadapter_style_sd14v1.pth\n",
        "   !aria2c --console-log-level=error -c -x 16 -s 16 -k 1M https://huggingface.co/ckpt/ControlNet-v1-1/resolve/main/t2iadapter_sketch_sd14v1.pth -o t2iadapter_sketch_sd14v1.pth\n",
        "   !aria2c --console-log-level=error -c -x 16 -s 16 -k 1M https://huggingface.co/ckpt/ControlNet-v1-1/resolve/main/t2iadapter_seg_sd14v1.pth -o t2iadapter_seg_sd14v1.pth\n",
        "   !aria2c --console-log-level=error -c -x 16 -s 16 -k 1M https://huggingface.co/ckpt/ControlNet-v1-1/resolve/main/t2iadapter_openpose_sd14v1.pth -o t2iadapter_openpose_sd14v1.pth\n",
        "   !aria2c --console-log-level=error -c -x 16 -s 16 -k 1M https://huggingface.co/ckpt/ControlNet-v1-1/resolve/main/t2iadapter_keypose_sd14v1.pth -o t2iadapter_keypose_sd14v1.pth\n",
        "   !aria2c --console-log-level=error -c -x 16 -s 16 -k 1M https://huggingface.co/ckpt/ControlNet-v1-1/resolve/main/t2iadapter_depth_sd14v1.pth -o t2iadapter_depth_sd14v1.pth\n",
        "   !aria2c --console-log-level=error -c -x 16 -s 16 -k 1M https://huggingface.co/ckpt/ControlNet-v1-1/resolve/main/t2iadapter_color_sd14v1.pth -o t2iadapter_color_sd14v1.pth\n",
        "   !aria2c --console-log-level=error -c -x 16 -s 16 -k 1M https://huggingface.co/ckpt/ControlNet-v1-1/resolve/main/t2iadapter_canny_sd14v1.pth -o t2iadapter_canny_sd14v1.pth\n",
        "   !aria2c --console-log-level=error -c -x 16 -s 16 -k 1M https://huggingface.co/ckpt/ControlNet-v1-1/resolve/main/t2iadapter_canny_sd15v2.pth -o t2iadapter_canny_sd15v2.pth\n",
        "   !aria2c --console-log-level=error -c -x 16 -s 16 -k 1M https://huggingface.co/ckpt/ControlNet-v1-1/resolve/main/t2iadapter_depth_sd15v2.pth -o t2iadapter_depth_sd15v2.pth\n",
        "   !aria2c --console-log-level=error -c -x 16 -s 16 -k 1M https://huggingface.co/ckpt/ControlNet-v1-1/resolve/main/t2iadapter_sketch_sd15v2.pth -o t2iadapter_sketch_sd15v2.pth\n",
        "   !aria2c --console-log-level=error -c -x 16 -s 16 -k 1M https://huggingface.co/ckpt/ControlNet-v1-1/resolve/main/t2iadapter_zoedepth_sd15v1.pth -o t2iadapter_zoedepth_sd15v1.pth\n",
        "\n",
        "#clear_output()\n",
        "print(\"✅ Done\", \"success\")"
      ],
      "metadata": {
        "id": "5j2aoUq7bsyU",
        "cellView": "form"
      },
      "execution_count": null,
      "outputs": []
    },
    {
      "cell_type": "markdown",
      "source": [
        "---"
      ],
      "metadata": {
        "id": "p1U_RvzFog9b"
      }
    },
    {
      "cell_type": "code",
      "source": [
        "#@title # [🔻] Keempat\n",
        "!echo -n {start_colab} > /content/{path}/static/colabTimer.txt\n",
        "\n",
        "# @markdown > Masukan Usrname+Passwrd (Opsional)\n",
        "use_login = \"Yes\"  # @param [\"No\", \"Yes\"]\n",
        "usrnme = \"babi\"  #@param {type:\"string\"}\n",
        "passwrd = \"utan\"  #@param {type:\"string\"}\n",
        "# @markdown > Masukan Token Ngrok (Opsional)\n",
        "ngrok_token = \"\"  #@param {type:\"string\"}\n",
        "\n",
        "strig = \"--xformers --no-half-vae --enable-insecure-extension-access --theme dark\"\n",
        "\n",
        "%cd /content/{path}\n",
        "!sed -i -e 's/\\[\"sd_model_checkpoint\"\\]/\\[\"sd_model_checkpoint\",\"sd_vae\",\"CLIP_stop_at_last_layers\"\\]/g' /content/{path}/modules/shared_options.py\n",
        "\n",
        "if use_login == \"Yes\":\n",
        "    !python launch.py {strig} --gradio-auth {usrnme}:{passwrd} --ngrok {ngrok_token} --listen --share\n",
        "\n",
        "if use_login == \"No\":\n",
        "    !python launch.py {strig} --ngrok {ngrok_token} --listen --share"
      ],
      "metadata": {
        "id": "hW7F6efjb903",
        "cellView": "form",
        "colab": {
          "base_uri": "https://localhost:8080/"
        },
        "outputId": "3c0e266d-3f43-466d-bb04-1994873617f4"
      },
      "execution_count": null,
      "outputs": [
        {
          "output_type": "stream",
          "name": "stdout",
          "text": [
            "  0% 0/20 [00:00<?, ?it/s]\n",
            "  5% 1/20 [00:01<00:35,  1.88s/it]\n",
            " 15% 3/20 [00:02<00:08,  1.90it/s]\n",
            " 25% 5/20 [00:02<00:04,  3.46it/s]\n",
            " 30% 6/20 [00:02<00:03,  4.19it/s]\n",
            " 35% 7/20 [00:02<00:02,  4.84it/s]\n",
            " 40% 8/20 [00:02<00:02,  5.27it/s]\n",
            " 45% 9/20 [00:03<00:01,  5.71it/s]\n",
            " 50% 10/20 [00:03<00:01,  6.00it/s]\n",
            " 55% 11/20 [00:03<00:01,  6.35it/s]\n",
            " 60% 12/20 [00:03<00:01,  6.54it/s]\n",
            " 65% 13/20 [00:03<00:01,  6.68it/s]\n",
            " 70% 14/20 [00:03<00:00,  6.75it/s]\n",
            " 75% 15/20 [00:03<00:00,  6.76it/s]\n",
            " 80% 16/20 [00:04<00:00,  6.83it/s]\n",
            " 85% 17/20 [00:04<00:00,  6.87it/s]\n",
            " 90% 18/20 [00:04<00:00,  6.91it/s]\n",
            " 95% 19/20 [00:04<00:00,  6.95it/s]\n",
            "100% 20/20 [00:04<00:00,  4.36it/s]\n",
            "\n",
            "Total progress: 100% 20/20 [00:10<00:00,  2.00it/s]\n",
            "  0% 0/20 [00:00<?, ?it/s]\n",
            "  5% 1/20 [00:00<00:06,  2.75it/s]\n",
            " 10% 2/20 [00:00<00:05,  3.14it/s]\n",
            " 15% 3/20 [00:00<00:05,  3.30it/s]\n",
            " 20% 4/20 [00:01<00:04,  3.35it/s]\n",
            " 25% 5/20 [00:01<00:04,  3.40it/s]\n",
            " 30% 6/20 [00:01<00:04,  3.41it/s]\n",
            " 35% 7/20 [00:02<00:03,  3.44it/s]\n",
            " 40% 8/20 [00:02<00:03,  3.44it/s]\n",
            " 45% 9/20 [00:02<00:03,  3.45it/s]\n",
            " 50% 10/20 [00:02<00:02,  3.44it/s]\n",
            " 55% 11/20 [00:03<00:02,  3.43it/s]\n",
            " 60% 12/20 [00:03<00:02,  3.40it/s]\n",
            " 65% 13/20 [00:03<00:02,  3.40it/s]\n",
            " 70% 14/20 [00:04<00:01,  3.41it/s]\n",
            " 75% 15/20 [00:04<00:01,  3.41it/s]\n",
            " 80% 16/20 [00:04<00:01,  3.41it/s]\n",
            " 85% 17/20 [00:05<00:00,  3.42it/s]\n",
            " 90% 18/20 [00:05<00:00,  3.41it/s]\n",
            " 95% 19/20 [00:05<00:00,  3.42it/s]\n",
            "100% 20/20 [00:05<00:00,  3.48it/s]\n",
            "\n",
            "Total progress: 100% 20/20 [00:06<00:00,  3.23it/s]\n",
            "  0% 0/20 [00:00<?, ?it/s]\n",
            "  5% 1/20 [00:00<00:07,  2.70it/s]\n",
            " 10% 2/20 [00:00<00:05,  3.10it/s]\n",
            " 15% 3/20 [00:00<00:05,  3.26it/s]\n",
            " 20% 4/20 [00:01<00:04,  3.30it/s]\n",
            " 25% 5/20 [00:01<00:04,  3.33it/s]\n",
            " 30% 6/20 [00:01<00:04,  3.35it/s]\n",
            " 35% 7/20 [00:02<00:03,  3.38it/s]\n",
            " 40% 8/20 [00:02<00:03,  3.38it/s]\n",
            " 45% 9/20 [00:02<00:03,  3.38it/s]\n",
            " 50% 10/20 [00:03<00:02,  3.39it/s]\n",
            " 55% 11/20 [00:03<00:02,  3.38it/s]\n",
            " 60% 12/20 [00:03<00:02,  3.38it/s]\n",
            " 65% 13/20 [00:03<00:02,  3.40it/s]\n",
            " 70% 14/20 [00:04<00:01,  3.39it/s]\n",
            " 75% 15/20 [00:04<00:01,  3.39it/s]\n",
            " 80% 16/20 [00:04<00:01,  3.39it/s]\n",
            " 85% 17/20 [00:05<00:00,  3.38it/s]\n",
            " 90% 18/20 [00:05<00:00,  3.37it/s]\n",
            " 95% 19/20 [00:05<00:00,  3.37it/s]\n",
            "100% 20/20 [00:05<00:00,  3.44it/s]\n",
            "\n",
            "Total progress: 100% 20/20 [00:06<00:00,  3.22it/s]\n",
            "  0% 0/20 [00:00<?, ?it/s]\n",
            "  5% 1/20 [00:00<00:07,  2.52it/s]\n",
            " 10% 2/20 [00:00<00:06,  2.98it/s]\n",
            " 15% 3/20 [00:00<00:05,  3.15it/s]\n",
            " 20% 4/20 [00:01<00:04,  3.22it/s]\n",
            " 25% 5/20 [00:01<00:04,  3.24it/s]\n",
            " 30% 6/20 [00:01<00:04,  3.29it/s]\n",
            " 35% 7/20 [00:02<00:03,  3.32it/s]\n",
            " 40% 8/20 [00:02<00:03,  3.30it/s]\n",
            " 45% 9/20 [00:02<00:03,  3.30it/s]\n",
            " 50% 10/20 [00:03<00:03,  3.32it/s]\n",
            " 55% 11/20 [00:03<00:02,  3.31it/s]\n",
            " 60% 12/20 [00:03<00:02,  3.31it/s]\n",
            " 65% 13/20 [00:03<00:02,  3.33it/s]\n",
            " 70% 14/20 [00:04<00:01,  3.30it/s]\n",
            " 75% 15/20 [00:04<00:01,  3.31it/s]\n",
            " 80% 16/20 [00:04<00:01,  3.33it/s]\n",
            " 85% 17/20 [00:05<00:00,  3.33it/s]\n",
            " 90% 18/20 [00:05<00:00,  3.33it/s]\n",
            " 95% 19/20 [00:05<00:00,  3.32it/s]\n",
            "100% 20/20 [00:05<00:00,  3.36it/s]\n",
            "\n",
            "Total progress: 100% 20/20 [00:06<00:00,  3.16it/s]\n"
          ]
        }
      ]
    },
    {
      "cell_type": "markdown",
      "source": [
        "---"
      ],
      "metadata": {
        "id": "5zcmLOLrojsT"
      }
    },
    {
      "cell_type": "markdown",
      "source": [
        "## Enhance"
      ],
      "metadata": {
        "id": "Zin1tQmrzSXW"
      }
    },
    {
      "cell_type": "markdown",
      "source": [
        "### Enhance Photo With RealESRGAN"
      ],
      "metadata": {
        "id": "YabdPLSMRvEE"
      }
    },
    {
      "cell_type": "code",
      "source": [
        "# @title ##[1] Install ⭐\n",
        "import os\n",
        "from IPython.display import clear_output # Clone Real-ESRGAN and enter the Real-ESRGAN\n",
        "!git clone https://github.com/xinntao/Real-ESRGAN.git\n",
        "%cd Real-ESRGAN\n",
        "# Set up the environment\n",
        "!pip install basicsr\n",
        "!pip install facexlib\n",
        "!pip install gfpgan\n",
        "!pip install -r requirements.txt\n",
        "!python setup.py develop\n",
        "clear_output()\n",
        "print(\"✅ Done\", \"success\")"
      ],
      "metadata": {
        "cellView": "form",
        "id": "2lMjopTjR4lt"
      },
      "execution_count": null,
      "outputs": []
    },
    {
      "cell_type": "markdown",
      "source": [
        "---"
      ],
      "metadata": {
        "id": "im0UZINvSSDI"
      }
    },
    {
      "cell_type": "code",
      "source": [
        "\n",
        "# @title ##[2] Upload Photo\n",
        "import os\n",
        "from google.colab import files\n",
        "from IPython.display import clear_output\n",
        "import shutil\n",
        "\n",
        "models_list = \"realesr-general-x4v3\" #@param [\"RealESRGAN_x4plus\", \"realesr-general-x4v3\", \"RealESRGAN_x4plus_anime_6B\"]\n",
        "# @markdown #Rescaling\n",
        "scale = \"4\" # @param {'type': 'string'}\n",
        "\n",
        "upload_folder = 'upload'\n",
        "result_folder = 'results'\n",
        "\n",
        "if os.path.isdir(upload_folder):\n",
        "    shutil.rmtree(upload_folder)\n",
        "if os.path.isdir(result_folder):\n",
        "    shutil.rmtree(result_folder)\n",
        "os.mkdir(upload_folder)\n",
        "os.mkdir(result_folder)\n",
        "\n",
        "# upload images\n",
        "uploaded = files.upload()\n",
        "for filename in uploaded.keys():\n",
        "  dst_path = os.path.join(upload_folder, filename)\n",
        "  print(f'move {filename} to {dst_path}')\n",
        "  shutil.move(filename, dst_path)\n",
        "\n",
        "# @markdown #Note!!! that it does not work for anime images/vidoes\n",
        "face_enhance = \"Yes\" #@param [\"Yes\", \"No\"]\n",
        "if face_enhance == \"Yes\":\n",
        "    !python inference_realesrgan.py -n $models_list -i upload --outscale $scale --face_enhance --tile 0\n",
        "elif face_enhance == \"No\":\n",
        "    !python inference_realesrgan.py -n $models_list -i upload --outscale $scale\n",
        "clear_output()\n",
        "print(\"✅ Done\", \"success\")"
      ],
      "metadata": {
        "cellView": "form",
        "id": "eS9t89JESCDF"
      },
      "execution_count": null,
      "outputs": []
    },
    {
      "cell_type": "markdown",
      "source": [
        "---"
      ],
      "metadata": {
        "id": "zFjQ5K5tST2_"
      }
    },
    {
      "cell_type": "code",
      "source": [
        "\n",
        "# @title ##[3] Review + Download Output\n",
        "# utils for visualization\n",
        "import cv2\n",
        "import matplotlib.pyplot as plt\n",
        "def display(img1, img2):\n",
        "  fig = plt.figure(figsize=(25, 10))\n",
        "  ax1 = fig.add_subplot(1, 2, 1)\n",
        "  plt.title('Input image', fontsize=16)\n",
        "  ax1.axis('off')\n",
        "  ax2 = fig.add_subplot(1, 2, 2)\n",
        "  plt.title('Real-ESRGAN output', fontsize=16)\n",
        "  ax2.axis('off')\n",
        "  ax1.imshow(img1)\n",
        "  ax2.imshow(img2)\n",
        "def imread(img_path):\n",
        "  img = cv2.imread(img_path)\n",
        "  img = cv2.cvtColor(img, cv2.COLOR_BGR2RGB)\n",
        "  return img\n",
        "\n",
        "# display each image in the upload folder\n",
        "import os\n",
        "import glob\n",
        "\n",
        "input_folder = 'upload'\n",
        "result_folder = 'results'\n",
        "input_list = sorted(glob.glob(os.path.join(input_folder, '*')))\n",
        "output_list = sorted(glob.glob(os.path.join(result_folder, '*')))\n",
        "for input_path, output_path in zip(input_list, output_list):\n",
        "  img_input = imread(input_path)\n",
        "  img_output = imread(output_path)\n",
        "  display(img_input, img_output)\n",
        "  print(\"✅ Done\", \"success\")\n",
        "\n",
        "import ipywidgets as widgets\n",
        "from IPython.display import display\n",
        "button = widgets.Button(description=\"Download!\")\n",
        "output = widgets.Output()\n",
        "\n",
        "def on_button_clicked(b):\n",
        "  # Display the message within the output widget.\n",
        "  with output:\n",
        "   for i in os.listdir('/content/Real-ESRGAN/results') :\n",
        "     files.download('/content/Real-ESRGAN/results/'+i)\n",
        "print(\"Click Here.\")\n",
        "\n",
        "button.on_click(on_button_clicked)\n",
        "display(button, output)"
      ],
      "metadata": {
        "cellView": "form",
        "id": "cx7x0p4gSI3Z"
      },
      "execution_count": null,
      "outputs": []
    }
  ],
  "metadata": {
    "accelerator": "GPU",
    "colab": {
      "provenance": [],
      "collapsed_sections": [
        "2YNao1CGzapw",
        "Zin1tQmrzSXW",
        "YabdPLSMRvEE"
      ],
      "include_colab_link": true
    },
    "kernelspec": {
      "display_name": "Python 3",
      "name": "python3"
    },
    "language_info": {
      "name": "python"
    }
  },
  "nbformat": 4,
  "nbformat_minor": 0
}